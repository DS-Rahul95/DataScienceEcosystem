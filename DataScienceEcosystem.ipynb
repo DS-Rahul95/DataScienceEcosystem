{
 "cells": [
  {
   "cell_type": "markdown",
   "id": "af2c72a4-a664-435f-bd05-1d08915ab50e",
   "metadata": {},
   "source": [
    "# H1:Data Science Tools and Ecosystem"
   ]
  },
  {
   "cell_type": "markdown",
   "id": "8178d036-8bc6-462a-8f74-60b0b4944ca1",
   "metadata": {},
   "source": [
    "## H2: In this notebook, Data Science Tools and Ecosystem are summarized."
   ]
  },
  {
   "cell_type": "markdown",
   "id": "94608043-7a13-4a0e-88e1-2b038e67f399",
   "metadata": {},
   "source": [
    "Some of the popular languages that Data Scientists use are:\n",
    "   \n",
    "     1. Python\n",
    "     2. R Language \n",
    "     3. SQL (Structured Query Language)"
   ]
  },
  {
   "cell_type": "markdown",
   "id": "dd3a3f75-7008-405f-b499-674d3cea4e97",
   "metadata": {},
   "source": [
    "Some of the commonly used libraries used by Data Scientists include:\n",
    " * Pandas\n",
    " * NumPy\n",
    " * Scikit-Learn\n",
    " * Matplotlib\n",
    " * Seaborn\n",
    " * Apache Spark\n",
    " * Apache Hive\n",
    " * Apache Pig\n",
    " * Jupyter Notebook\n",
    " * Keras\n",
    " * MATLAB"
   ]
  },
  {
   "cell_type": "markdown",
   "id": "e2a69b7b-ebf5-4227-8411-401260743d33",
   "metadata": {},
   "source": [
    "# Data Science Tools"
   ]
  },
  {
   "cell_type": "markdown",
   "id": "52eaa99b-164c-4302-9ac3-a41832793c3b",
   "metadata": {},
   "source": [
    "***\n",
    "**Tableau**\n",
    "***\n",
    "**TensorFlow**\n",
    "***\n",
    "**Apache Spark**\n",
    "***"
   ]
  },
  {
   "cell_type": "markdown",
   "id": "87781d7d-2b48-4b0a-a22c-96d8a5de9499",
   "metadata": {},
   "source": [
    "## H3: Below are a few examples of evaluating arithmetic expressions in Python"
   ]
  },
  {
   "cell_type": "markdown",
   "id": "5c24fc87-2e61-4f09-a742-d351a7241dce",
   "metadata": {},
   "source": [
    "### This a simple arithmetic expression to mutiply then add integers"
   ]
  },
  {
   "cell_type": "code",
   "execution_count": null,
   "id": "12e7f36c-2e60-452a-ad63-9073d9d507f6",
   "metadata": {
    "tags": []
   },
   "outputs": [],
   "source": [
    "3+5"
   ]
  },
  {
   "cell_type": "code",
   "execution_count": 2,
   "id": "a4206763-9869-4d74-a248-3937e7f2e531",
   "metadata": {
    "tags": []
   },
   "outputs": [
    {
     "data": {
      "text/plain": [
       "17"
      ]
     },
     "execution_count": 2,
     "metadata": {},
     "output_type": "execute_result"
    }
   ],
   "source": [
    "(3*4)+5"
   ]
  },
  {
   "cell_type": "markdown",
   "id": "ae472751-4fe3-41d4-973f-0fac00612801",
   "metadata": {},
   "source": [
    "### This will convert 200 minutes to hours by diving by 60"
   ]
  },
  {
   "cell_type": "code",
   "execution_count": 1,
   "id": "42c9d1bb-0387-43c1-8d77-3c6199599b5d",
   "metadata": {},
   "outputs": [
    {
     "data": {
      "text/plain": [
       "3.3333333333333335"
      ]
     },
     "execution_count": 1,
     "metadata": {},
     "output_type": "execute_result"
    }
   ],
   "source": [
    "200/60"
   ]
  },
  {
   "cell_type": "markdown",
   "id": "2f58d7be-357e-4215-8738-a7906c36bf95",
   "metadata": {},
   "source": [
    "## Objectives:"
   ]
  },
  {
   "cell_type": "markdown",
   "id": "02f3f0a7-a451-47ff-a6cb-84f6fc94bf4a",
   "metadata": {
    "tags": []
   },
   "source": [
    "### List popular languages for Data Science.\n",
    "* Python\n",
    "* R\n",
    "* SQL\n",
    "* Java\n",
    "* JavaScript\n",
    "* Go\n",
    "* Scala\n",
    "* Julia\n",
    "* Swift\n",
    "* MATLAB\n",
    "* SAS"
   ]
  },
  {
   "cell_type": "markdown",
   "id": "49b186fb-aded-4055-b0f6-bb04b3f63af0",
   "metadata": {},
   "source": [
    "## H2: Author\n",
    "Rahul Vishwakarma"
   ]
  },
  {
   "cell_type": "code",
   "execution_count": null,
   "id": "d737b8ca-efa6-442c-a365-c6ea179aa028",
   "metadata": {},
   "outputs": [],
   "source": []
  }
 ],
 "metadata": {
  "kernelspec": {
   "display_name": "Python 3 (ipykernel)",
   "language": "python",
   "name": "python3"
  },
  "language_info": {
   "codemirror_mode": {
    "name": "ipython",
    "version": 3
   },
   "file_extension": ".py",
   "mimetype": "text/x-python",
   "name": "python",
   "nbconvert_exporter": "python",
   "pygments_lexer": "ipython3",
   "version": "3.11.5"
  },
  "toc-autonumbering": false
 },
 "nbformat": 4,
 "nbformat_minor": 5
}
